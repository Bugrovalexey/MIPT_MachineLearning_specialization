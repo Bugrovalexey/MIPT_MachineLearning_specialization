{
 "cells": [
  {
   "cell_type": "code",
   "execution_count": 1,
   "metadata": {
    "collapsed": true
   },
   "outputs": [],
   "source": [
    "%matplotlib inline\n",
    "import pandas as pd\n",
    "import numpy as np\n",
    "import matplotlib.pyplot as plt"
   ]
  },
  {
   "cell_type": "code",
   "execution_count": 2,
   "metadata": {
    "collapsed": false
   },
   "outputs": [
    {
     "name": "stdout",
     "output_type": "stream",
     "text": [
      "(396634, 5)\n"
     ]
    },
    {
     "data": {
      "text/html": [
       "<div>\n",
       "<table border=\"1\" class=\"dataframe\">\n",
       "  <thead>\n",
       "    <tr style=\"text-align: right;\">\n",
       "      <th></th>\n",
       "      <th>user_id</th>\n",
       "      <th>venue_id</th>\n",
       "      <th>latitude</th>\n",
       "      <th>longitude</th>\n",
       "      <th>created_at</th>\n",
       "    </tr>\n",
       "    <tr>\n",
       "      <th>id</th>\n",
       "      <th></th>\n",
       "      <th></th>\n",
       "      <th></th>\n",
       "      <th></th>\n",
       "      <th></th>\n",
       "    </tr>\n",
       "  </thead>\n",
       "  <tbody>\n",
       "    <tr>\n",
       "      <th>984222</th>\n",
       "      <td>15824</td>\n",
       "      <td>5222</td>\n",
       "      <td>38.895112</td>\n",
       "      <td>-77.036366</td>\n",
       "      <td>2012-04-21 17:43:47</td>\n",
       "    </tr>\n",
       "    <tr>\n",
       "      <th>984234</th>\n",
       "      <td>44652</td>\n",
       "      <td>5222</td>\n",
       "      <td>33.800745</td>\n",
       "      <td>-84.410520</td>\n",
       "      <td>2012-04-21 17:43:43</td>\n",
       "    </tr>\n",
       "    <tr>\n",
       "      <th>984291</th>\n",
       "      <td>105054</td>\n",
       "      <td>5222</td>\n",
       "      <td>45.523452</td>\n",
       "      <td>-122.676207</td>\n",
       "      <td>2012-04-21 17:39:22</td>\n",
       "    </tr>\n",
       "    <tr>\n",
       "      <th>984318</th>\n",
       "      <td>2146539</td>\n",
       "      <td>5222</td>\n",
       "      <td>40.764462</td>\n",
       "      <td>-111.904565</td>\n",
       "      <td>2012-04-21 17:35:46</td>\n",
       "    </tr>\n",
       "    <tr>\n",
       "      <th>984232</th>\n",
       "      <td>93870</td>\n",
       "      <td>380645</td>\n",
       "      <td>33.448377</td>\n",
       "      <td>-112.074037</td>\n",
       "      <td>2012-04-21 17:38:18</td>\n",
       "    </tr>\n",
       "  </tbody>\n",
       "</table>\n",
       "</div>"
      ],
      "text/plain": [
       "        user_id  venue_id   latitude   longitude           created_at\n",
       "id                                                                   \n",
       "984222    15824      5222  38.895112  -77.036366  2012-04-21 17:43:47\n",
       "984234    44652      5222  33.800745  -84.410520  2012-04-21 17:43:43\n",
       "984291   105054      5222  45.523452 -122.676207  2012-04-21 17:39:22\n",
       "984318  2146539      5222  40.764462 -111.904565  2012-04-21 17:35:46\n",
       "984232    93870    380645  33.448377 -112.074037  2012-04-21 17:38:18"
      ]
     },
     "execution_count": 2,
     "metadata": {},
     "output_type": "execute_result"
    }
   ],
   "source": [
    "data = pd.read_csv('./data/checkins.csv.gz', compression='gzip', index_col='id')\n",
    "print(data.shape)\n",
    "data.head()"
   ]
  },
  {
   "cell_type": "code",
   "execution_count": 3,
   "metadata": {
    "collapsed": false
   },
   "outputs": [
    {
     "data": {
      "text/plain": [
       "MeanShift(bandwidth=0.1, bin_seeding=False, cluster_all=True, min_bin_freq=1,\n",
       "     n_jobs=-1, seeds=None)"
      ]
     },
     "execution_count": 3,
     "metadata": {},
     "output_type": "execute_result"
    }
   ],
   "source": [
    "from sklearn.cluster import MeanShift\n",
    "\n",
    "cluster = MeanShift(bandwidth=0.1, n_jobs=-1)\n",
    "cluster.fit(data[['latitude', 'longitude']].head(100000))"
   ]
  },
  {
   "cell_type": "code",
   "execution_count": 4,
   "metadata": {
    "collapsed": false
   },
   "outputs": [],
   "source": [
    "from itertools import groupby\n",
    "from operator import itemgetter\n",
    "\n",
    "big_cluster_labels = [i for i, k in groupby(sorted(cluster.labels_)) if len(list(k)) > 15]"
   ]
  },
  {
   "cell_type": "code",
   "execution_count": 5,
   "metadata": {
    "collapsed": false
   },
   "outputs": [
    {
     "name": "stdout",
     "output_type": "stream",
     "text": [
      "40.71771639727507,-73.9918354198967\n",
      "33.44943805020126,-112.00213969017547\n",
      "33.44638027037988,-111.90188756212359\n",
      "41.87824377967115,-87.62984336226329\n",
      "37.68868157406161,-122.40933037359147\n",
      "38.8861652155993,-77.04878333074303\n",
      "33.357344562325096,-111.82265410760392\n",
      "33.76663623218336,-84.39328918481657\n",
      "42.363218639848895,-71.07368760857386\n",
      "47.60624471741767,-122.33204382627093\n",
      "36.117229142990276,-115.17107342280688\n",
      "34.06039755458241,-118.24870902659876\n",
      "44.97794782033687,-93.2673008852605\n",
      "30.26718361698159,-97.74311928133027\n",
      "40.76687624004166,-73.83335349045205\n",
      "39.735830152625304,-104.98658042770822\n",
      "39.95168037300773,-75.16273592391683\n",
      "34.03548695312116,-118.43899771946148\n",
      "32.98089338217789,-117.07811797821928\n",
      "32.80302053531547,-96.76989743494408\n"
     ]
    }
   ],
   "source": [
    "big_cluster_centers = [cluster.cluster_centers_[label] for label in big_cluster_labels]\n",
    "for c in big_cluster_centers[0:20]:\n",
    "    print(\"{},{}\".format(c[0], c[1]))"
   ]
  },
  {
   "cell_type": "code",
   "execution_count": 6,
   "metadata": {
    "collapsed": false
   },
   "outputs": [],
   "source": [
    "offices = [\n",
    "    [33.751277, -118.188740],\n",
    "    [25.867736, -80.324116],\n",
    "    [51.503016, -0.075479],\n",
    "    [52.378894, 4.885084],\n",
    "    [39.366487, 117.036146],\n",
    "    [-33.868457, 151.205134]\n",
    "]"
   ]
  },
  {
   "cell_type": "code",
   "execution_count": 7,
   "metadata": {
    "collapsed": false
   },
   "outputs": [],
   "source": [
    "from geopy.distance import vincenty\n",
    "\n",
    "def dist(a, b):\n",
    "    return vincenty(tuple(a), tuple(b)).meters"
   ]
  },
  {
   "cell_type": "code",
   "execution_count": 11,
   "metadata": {
    "collapsed": false
   },
   "outputs": [],
   "source": [
    "distances = []\n",
    "\n",
    "for office in offices:\n",
    "    for center in big_cluster_centers:\n",
    "        pair = (dist(center, office), tuple(center))\n",
    "        distances.append(pair)\n",
    "\n",
    "distances = sorted(distances, key=lambda el: el[0], reverse=False)"
   ]
  },
  {
   "cell_type": "code",
   "execution_count": 12,
   "metadata": {
    "collapsed": false
   },
   "outputs": [
    {
     "data": {
      "text/plain": [
       "[(823.4439405652802, (52.37296399032261, 4.8923172225806466)),\n",
       " (868.754889081817, (-33.860630428571433, 151.20477592857145)),\n",
       " (2499.8389367887366, (25.8456722642857, -80.318890596428574)),\n",
       " (3475.8459456398728, (51.502991260887086, -0.12553728870967767)),\n",
       " (7473.232758058908, (33.809877955263097, -118.14892380690813)),\n",
       " (13989.508525635409, (25.785812419967499, -80.217938036825402)),\n",
       " (18446.965858161107, (25.705349721052581, -80.28342873815798)),\n",
       " (19965.422193191756, (33.888325342758598, -118.04892817172427)),\n",
       " (20083.481829298064, (26.010098249285683, -80.199990585714318)),\n",
       " (20972.68871913518, (33.872986011570177, -118.36209114655645)),\n",
       " (24618.591403758826, (33.97257482142858, -118.16837066666663)),\n",
       " (28509.664310873613, (33.81730643390889, -117.89124917095801)),\n",
       " (30052.960808513977, (26.138843786842077, -80.334346836842073)),\n",
       " (30781.408060008325, (33.983935874038437, -118.00740497307689)),\n",
       " (31753.935186627205, (33.674302659765758, -117.85878926777275)),\n",
       " (32558.263281921383, (26.120862658633104, -80.158906680215694)),\n",
       " (34733.54660273754, (34.060397554582408, -118.24870902659876)),\n",
       " (37600.478826780556, (26.20058464102565, -80.250716125640992)),\n",
       " (39111.03588168936, (34.035486953121158, -118.43899771946148)),\n",
       " (41985.21244652844, (33.650895992880258, -117.75207397281613))]"
      ]
     },
     "execution_count": 12,
     "metadata": {},
     "output_type": "execute_result"
    }
   ],
   "source": [
    "distances[0:20]"
   ]
  },
  {
   "cell_type": "code",
   "execution_count": 13,
   "metadata": {
    "collapsed": false
   },
   "outputs": [
    {
     "name": "stdout",
     "output_type": "stream",
     "text": [
      "(52.37296399032261, 4.8923172225806466)\n"
     ]
    }
   ],
   "source": [
    "# решение задания\n",
    "print(distances[0][1])"
   ]
  }
 ],
 "metadata": {
  "kernelspec": {
   "display_name": "Python 3",
   "language": "python",
   "name": "python3"
  },
  "language_info": {
   "codemirror_mode": {
    "name": "ipython",
    "version": 3
   },
   "file_extension": ".py",
   "mimetype": "text/x-python",
   "name": "python",
   "nbconvert_exporter": "python",
   "pygments_lexer": "ipython3",
   "version": "3.5.2"
  }
 },
 "nbformat": 4,
 "nbformat_minor": 0
}
