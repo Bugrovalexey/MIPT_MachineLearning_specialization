{
 "cells": [
  {
   "cell_type": "markdown",
   "metadata": {},
   "source": [
    "# Programming Assignment: \n",
    "## Готовим LDA по рецептам"
   ]
  },
  {
   "cell_type": "markdown",
   "metadata": {},
   "source": [
    "Как вы уже знаете, в тематическом моделировании делается предположение о том, что для определения тематики порядок слов в документе не важен; об этом гласит гипотеза «мешка слов». Сегодня мы будем работать с несколько нестандартной для тематического моделирования коллекцией, которую можно назвать «мешком ингредиентов», потому что на состоит из рецептов блюд разных кухонь. Тематические модели ищут слова, которые часто вместе встречаются в документах, и составляют из них темы. Мы попробуем применить эту идею к рецептам и найти кулинарные «темы». Эта коллекция хороша тем, что не требует предобработки. Кроме того, эта задача достаточно наглядно иллюстрирует принцип работы тематических моделей.\n",
    "\n",
    "Для выполнения заданий, помимо часто используемых в курсе библиотек, потребуются модули *json* и *gensim*. Первый входит в дистрибутив Anaconda, второй можно поставить командой \n",
    "\n",
    "*pip install gensim*\n",
    "\n",
    "Построение модели занимает некоторое время. На ноутбуке с процессором Intel Core i7 и тактовой частотой 2400 МГц на построение одной модели уходит менее 10 минут."
   ]
  },
  {
   "cell_type": "markdown",
   "metadata": {},
   "source": [
    "### Загрузка данных"
   ]
  },
  {
   "cell_type": "markdown",
   "metadata": {},
   "source": [
    "Коллекция дана в json-формате: для каждого рецепта известны его id, кухня (cuisine) и список ингредиентов, в него входящих. Загрузить данные можно с помощью модуля json (он входит в дистрибутив Anaconda):"
   ]
  },
  {
   "cell_type": "code",
   "execution_count": 22,
   "metadata": {
    "collapsed": false
   },
   "outputs": [],
   "source": [
    "import json\n",
    "from zipfile import ZipFile\n",
    "import codecs # workaround for reading json inside zip, python3 problem."
   ]
  },
  {
   "cell_type": "code",
   "execution_count": 27,
   "metadata": {
    "collapsed": false
   },
   "outputs": [],
   "source": [
    "reader = codecs.getreader(\"utf-8\")\n",
    "with ZipFile(\"recipes.zip\", \"r\") as z:\n",
    "    with z.open('recipes.json') as f:\n",
    "        recipes = json.load(reader(f))"
   ]
  },
  {
   "cell_type": "code",
   "execution_count": 30,
   "metadata": {
    "collapsed": false
   },
   "outputs": [
    {
     "name": "stdout",
     "output_type": "stream",
     "text": [
      "{'ingredients': ['romaine lettuce', 'black olives', 'grape tomatoes', 'garlic', 'pepper', 'purple onion', 'seasoning', 'garbanzo beans', 'feta cheese crumbles'], 'cuisine': 'greek', 'id': 10259}\n"
     ]
    }
   ],
   "source": [
    "print(recipes[0])"
   ]
  },
  {
   "cell_type": "markdown",
   "metadata": {},
   "source": [
    "### Составление корпуса"
   ]
  },
  {
   "cell_type": "code",
   "execution_count": 31,
   "metadata": {
    "collapsed": false
   },
   "outputs": [
    {
     "name": "stderr",
     "output_type": "stream",
     "text": [
      "/usr/local/lib/python3.5/site-packages/gensim/utils.py:1015: UserWarning: Pattern library is not installed, lemmatization won't be available.\n",
      "  warnings.warn(\"Pattern library is not installed, lemmatization won't be available.\")\n"
     ]
    }
   ],
   "source": [
    "from gensim import corpora, models\n",
    "import numpy as np"
   ]
  },
  {
   "cell_type": "markdown",
   "metadata": {},
   "source": [
    "Наша коллекция небольшая, и целиком помещается в оперативную память. Gensim может работать с такими данными и не требует их сохранения на диск в специальном формате. Для этого коллекция должна быть представлена в виде списка списков, каждый внутренний список соответствует отдельному документу и состоит из его слов. Пример коллекции из двух документов: \n",
    "\n",
    "[[\"hello\", \"world\"], [\"programming\", \"in\", \"python\"]]\n",
    "\n",
    "Преобразуем наши данные в такой формат, а затем создадим объекты corpus и dictionary, с которыми будет работать модель."
   ]
  },
  {
   "cell_type": "code",
   "execution_count": 279,
   "metadata": {
    "collapsed": true
   },
   "outputs": [],
   "source": [
    "texts = [recipe[\"ingredients\"] for recipe in recipes]\n",
    "dictionary = corpora.Dictionary(texts)   # составляем словарь\n",
    "corpus = [dictionary.doc2bow(text) for text in texts]  # составляем корпус документов"
   ]
  },
  {
   "cell_type": "code",
   "execution_count": 180,
   "metadata": {
    "collapsed": false
   },
   "outputs": [
    {
     "name": "stdout",
     "output_type": "stream",
     "text": [
      "['romaine lettuce', 'black olives', 'grape tomatoes', 'garlic', 'pepper', 'purple onion', 'seasoning', 'garbanzo beans', 'feta cheese crumbles']\n",
      "[(9, 1), (10, 1), (11, 1), (12, 1), (13, 1), (14, 1), (15, 1), (16, 1), (17, 1), (18, 1), (19, 1)]\n"
     ]
    }
   ],
   "source": [
    "print(texts[0])\n",
    "print(corpus[1])"
   ]
  },
  {
   "cell_type": "markdown",
   "metadata": {},
   "source": [
    "У объекта dictionary есть полезная переменная dictionary.token2id, позволяющая находить соответствие между ингредиентами и их индексами."
   ]
  },
  {
   "cell_type": "markdown",
   "metadata": {},
   "source": [
    "### Обучение модели\n",
    "Вам может понадобиться [документация](https://radimrehurek.com/gensim/models/ldamodel.html) LDA в gensim."
   ]
  },
  {
   "cell_type": "markdown",
   "metadata": {},
   "source": [
    "__Задание 1.__ Обучите модель LDA с 40 темами, установив количество проходов по коллекции 5 и оставив остальные параметры по умолчанию. \n",
    "\n",
    "\n",
    "Затем вызовите метод модели *show_topics*, указав количество тем 40 и количество токенов 10, и сохраните результат (топы ингредиентов в темах) в отдельную переменную. Если при вызове метода *show_topics* указать параметр *formatted=True*, то топы ингредиентов будет удобно выводить на печать, если *formatted=False*, будет удобно работать со списком программно. Выведите топы на печать, рассмотрите темы, а затем ответьте на вопрос:\n",
    "\n",
    "Сколько раз ингредиенты \"salt\", \"sugar\", \"water\", \"mushrooms\", \"chicken\", \"eggs\" встретились среди топов-10 всех 40 тем? При ответе __не нужно__ учитывать составные ингредиенты, например, \"hot water\".\n",
    "\n",
    "Передайте 6 чисел в функцию save_answers1 и загрузите сгенерированный файл в форму.\n",
    "\n",
    "У gensim нет возможности фиксировать случайное приближение через параметры метода, но библиотека использует numpy для инициализации матриц. Поэтому, по утверждению автора библиотеки, фиксировать случайное приближение нужно командой, которая написана в следующей ячейке. __Перед строкой кода с построением модели обязательно вставляйте указанную строку фиксации random.seed.__"
   ]
  },
  {
   "cell_type": "code",
   "execution_count": 280,
   "metadata": {
    "collapsed": false
   },
   "outputs": [],
   "source": [
    "np.random.seed(76543)\n",
    "# здесь код для построения модели:\n",
    "model = models.ldamodel.LdaModel(corpus, id2word=dictionary, num_topics=40, passes=5)"
   ]
  },
  {
   "cell_type": "code",
   "execution_count": 182,
   "metadata": {
    "collapsed": false
   },
   "outputs": [
    {
     "data": {
      "text/plain": [
       "[(0,\n",
       "  '0.075*\"chopped cilantro fresh\" + 0.069*\"garlic cloves\" + 0.066*\"peeled fresh ginger\" + 0.043*\"fresh lime juice\" + 0.042*\"vegetable oil\" + 0.041*\"medium shrimp\" + 0.039*\"sweet onion\" + 0.039*\"lime wedges\" + 0.036*\"crushed red pepper\" + 0.028*\"chopped fresh mint\"'),\n",
       " (1,\n",
       "  '0.120*\"white onion\" + 0.056*\"tomatillos\" + 0.050*\"serrano chile\" + 0.044*\"low sodium chicken broth\" + 0.039*\"vegetable oil\" + 0.038*\"chiles\" + 0.037*\"kosher salt\" + 0.037*\"bananas\" + 0.035*\"garlic cloves\" + 0.034*\"water\"'),\n",
       " (2,\n",
       "  '0.074*\"fresh lime juice\" + 0.074*\"purple onion\" + 0.061*\"chicken breasts\" + 0.048*\"red bell pepper\" + 0.046*\"cheese\" + 0.037*\"tomatoes\" + 0.031*\"yellow bell pepper\" + 0.028*\"chopped cilantro fresh\" + 0.027*\"asparagus\" + 0.024*\"salt and ground black pepper\"'),\n",
       " (3,\n",
       "  '0.090*\"coarse salt\" + 0.089*\"parmesan cheese\" + 0.057*\"white wine\" + 0.056*\"ground pepper\" + 0.039*\"olive oil\" + 0.037*\"fresh spinach\" + 0.034*\"parsley\" + 0.027*\"sausages\" + 0.025*\"garlic\" + 0.023*\"butter\"'),\n",
       " (4,\n",
       "  '0.121*\"all-purpose flour\" + 0.109*\"large eggs\" + 0.089*\"unsalted butter\" + 0.085*\"salt\" + 0.065*\"sugar\" + 0.054*\"baking powder\" + 0.041*\"baking soda\" + 0.036*\"buttermilk\" + 0.031*\"whole milk\" + 0.026*\"butter\"'),\n",
       " (5,\n",
       "  '0.079*\"hot water\" + 0.073*\"chopped garlic\" + 0.062*\"mango\" + 0.059*\"cayenne\" + 0.047*\"vegetable stock\" + 0.046*\"coconut oil\" + 0.041*\"bread crumb fresh\" + 0.034*\"roasted peanuts\" + 0.031*\"pimentos\" + 0.029*\"hot red pepper flakes\"'),\n",
       " (6,\n",
       "  '0.060*\"peanuts\" + 0.057*\"carrots\" + 0.038*\"rice noodles\" + 0.037*\"beansprouts\" + 0.031*\"green cabbage\" + 0.030*\"cannellini beans\" + 0.030*\"reduced sodium soy sauce\" + 0.029*\"fresh mint\" + 0.028*\"english cucumber\" + 0.025*\"mint\"'),\n",
       " (7,\n",
       "  '0.074*\"radishes\" + 0.065*\"vegetable oil cooking spray\" + 0.062*\"fresh orange juice\" + 0.046*\"pinto beans\" + 0.041*\"poblano peppers\" + 0.040*\"yellow squash\" + 0.039*\"fat free milk\" + 0.035*\"serrano peppers\" + 0.029*\"gruyere cheese\" + 0.029*\"adobo sauce\"'),\n",
       " (8,\n",
       "  '0.102*\"fresh lemon juice\" + 0.055*\"red wine vinegar\" + 0.051*\"garlic cloves\" + 0.049*\"salt\" + 0.048*\"olive oil\" + 0.046*\"extra-virgin olive oil\" + 0.045*\"ground black pepper\" + 0.039*\"capers\" + 0.027*\"grated lemon zest\" + 0.025*\"purple onion\"'),\n",
       " (9,\n",
       "  '0.060*\"sour cream\" + 0.059*\"jalapeno chilies\" + 0.048*\"salt\" + 0.048*\"avocado\" + 0.046*\"chili powder\" + 0.041*\"corn tortillas\" + 0.041*\"ground cumin\" + 0.040*\"black beans\" + 0.039*\"salsa\" + 0.036*\"flour tortillas\"'),\n",
       " (10,\n",
       "  '0.091*\"sauce\" + 0.075*\"bell pepper\" + 0.049*\"flank steak\" + 0.042*\"broccoli florets\" + 0.033*\"fresh mushrooms\" + 0.032*\"chili flakes\" + 0.028*\"seeds\" + 0.027*\"seasoning salt\" + 0.025*\"pork\" + 0.024*\"fresh chives\"'),\n",
       " (11,\n",
       "  '0.100*\"cilantro\" + 0.092*\"lime\" + 0.066*\"garlic\" + 0.055*\"boneless skinless chicken breasts\" + 0.053*\"yellow onion\" + 0.038*\"olive oil\" + 0.036*\"cumin\" + 0.035*\"oregano\" + 0.031*\"red pepper\" + 0.029*\"vegetable broth\"'),\n",
       " (12,\n",
       "  '0.168*\"canola oil\" + 0.061*\"cajun seasoning\" + 0.057*\"chile pepper\" + 0.056*\"cracked black pepper\" + 0.051*\"shredded Monterey Jack cheese\" + 0.046*\"beef broth\" + 0.036*\"kosher salt\" + 0.030*\"yukon gold potatoes\" + 0.030*\"ground red pepper\" + 0.023*\"black olives\"'),\n",
       " (13,\n",
       "  '0.066*\"salt\" + 0.052*\"onions\" + 0.045*\"ground turmeric\" + 0.045*\"cumin seed\" + 0.043*\"garam masala\" + 0.041*\"oil\" + 0.035*\"green chilies\" + 0.034*\"ginger\" + 0.029*\"tomatoes\" + 0.029*\"tumeric\"'),\n",
       " (14,\n",
       "  '0.087*\"olive oil\" + 0.067*\"salt\" + 0.037*\"dried oregano\" + 0.037*\"fresh basil\" + 0.034*\"grated parmesan cheese\" + 0.033*\"garlic cloves\" + 0.033*\"pepper\" + 0.032*\"onions\" + 0.032*\"zucchini\" + 0.029*\"fresh parsley\"'),\n",
       " (15,\n",
       "  '0.131*\"extra-virgin olive oil\" + 0.068*\"sea salt\" + 0.055*\"plum tomatoes\" + 0.045*\"fresh basil leaves\" + 0.042*\"garlic cloves\" + 0.041*\"ground black pepper\" + 0.039*\"balsamic vinegar\" + 0.035*\"parmigiano reggiano cheese\" + 0.030*\"olive oil\" + 0.029*\"pinenuts\"'),\n",
       " (16,\n",
       "  '0.066*\"dry white wine\" + 0.061*\"freshly ground pepper\" + 0.058*\"garlic cloves\" + 0.056*\"flat leaf parsley\" + 0.053*\"olive oil\" + 0.045*\"extra-virgin olive oil\" + 0.045*\"salt\" + 0.039*\"unsalted butter\" + 0.031*\"shallots\" + 0.029*\"kosher salt\"'),\n",
       " (17,\n",
       "  '0.157*\"eggs\" + 0.100*\"salt\" + 0.100*\"milk\" + 0.085*\"butter\" + 0.076*\"flour\" + 0.067*\"white sugar\" + 0.054*\"all-purpose flour\" + 0.028*\"baking powder\" + 0.027*\"water\" + 0.021*\"vegetable oil\"'),\n",
       " (18,\n",
       "  '0.083*\"salt\" + 0.079*\"onions\" + 0.079*\"potatoes\" + 0.047*\"pepper\" + 0.046*\"carrots\" + 0.045*\"water\" + 0.038*\"cabbage\" + 0.030*\"chopped tomatoes\" + 0.030*\"cream\" + 0.025*\"ghee\"'),\n",
       " (19,\n",
       "  '0.124*\"lemon\" + 0.076*\"cucumber\" + 0.059*\"feta cheese crumbles\" + 0.052*\"sugar\" + 0.038*\"peaches\" + 0.036*\"strawberries\" + 0.034*\"juice\" + 0.029*\"grated lemon peel\" + 0.029*\"mint leaves\" + 0.028*\"lemon juice\"'),\n",
       " (20,\n",
       "  '0.136*\"cooking spray\" + 0.090*\"salt\" + 0.073*\"warm water\" + 0.056*\"all-purpose flour\" + 0.054*\"sugar\" + 0.048*\"active dry yeast\" + 0.040*\"large egg whites\" + 0.029*\"shortening\" + 0.029*\"large eggs\" + 0.027*\"water\"'),\n",
       " (21,\n",
       "  '0.070*\"soy sauce\" + 0.062*\"corn starch\" + 0.048*\"sugar\" + 0.042*\"garlic\" + 0.038*\"salt\" + 0.037*\"water\" + 0.036*\"sesame oil\" + 0.028*\"scallions\" + 0.027*\"white vinegar\" + 0.026*\"oil\"'),\n",
       " (22,\n",
       "  '0.092*\"garlic powder\" + 0.076*\"salt\" + 0.074*\"paprika\" + 0.044*\"black pepper\" + 0.044*\"chopped onion\" + 0.040*\"ground cumin\" + 0.037*\"onion powder\" + 0.034*\"fat free less sodium chicken broth\" + 0.033*\"olive oil\" + 0.028*\"ground black pepper\"'),\n",
       " (23,\n",
       "  '0.060*\"curry powder\" + 0.056*\"salt\" + 0.053*\"fresh ginger\" + 0.045*\"onions\" + 0.043*\"garlic\" + 0.034*\"fresh cilantro\" + 0.033*\"olive oil\" + 0.030*\"plain yogurt\" + 0.022*\"tomato paste\" + 0.020*\"saffron\"'),\n",
       " (24,\n",
       "  '0.092*\"fish sauce\" + 0.055*\"sugar\" + 0.054*\"shallots\" + 0.048*\"lime juice\" + 0.048*\"coconut milk\" + 0.032*\"orange juice\" + 0.031*\"lime\" + 0.031*\"lemongrass\" + 0.029*\"cilantro leaves\" + 0.028*\"water\"'),\n",
       " (25,\n",
       "  '0.063*\"corn kernels\" + 0.060*\"bread crumbs\" + 0.048*\"half & half\" + 0.044*\"monterey jack\" + 0.043*\"chives\" + 0.041*\"cheddar cheese\" + 0.038*\"heavy whipping cream\" + 0.037*\"minced onion\" + 0.033*\"ice water\" + 0.032*\"polenta\"'),\n",
       " (26,\n",
       "  '0.070*\"mirin\" + 0.065*\"sake\" + 0.055*\"sugar\" + 0.054*\"soy sauce\" + 0.029*\"water\" + 0.028*\"nutmeg\" + 0.027*\"scallions\" + 0.027*\"shiitake\" + 0.026*\"dashi\" + 0.025*\"extra firm tofu\"'),\n",
       " (27,\n",
       "  '0.074*\"grated parmesan cheese\" + 0.042*\"tomato sauce\" + 0.041*\"garlic\" + 0.040*\"ground beef\" + 0.034*\"onions\" + 0.034*\"salt\" + 0.033*\"shredded mozzarella cheese\" + 0.032*\"olive oil\" + 0.032*\"lean ground beef\" + 0.032*\"mozzarella cheese\"'),\n",
       " (28,\n",
       "  '0.058*\"garlic salt\" + 0.053*\"chopped fresh chives\" + 0.052*\"thyme\" + 0.046*\"peas\" + 0.038*\"fresh thyme leaves\" + 0.037*\"slivered almonds\" + 0.032*\"butter\" + 0.028*\"marsala wine\" + 0.027*\"hazelnuts\" + 0.026*\"mint sprigs\"'),\n",
       " (29,\n",
       "  '0.075*\"fresh rosemary\" + 0.052*\"olive oil\" + 0.050*\"white wine vinegar\" + 0.042*\"hot pepper sauce\" + 0.041*\"dijon mustard\" + 0.040*\"butter\" + 0.031*\"chopped fresh thyme\" + 0.028*\"french bread\" + 0.027*\"ground black pepper\" + 0.024*\"crème fraîche\"'),\n",
       " (30,\n",
       "  '0.083*\"finely chopped onion\" + 0.073*\"chopped celery\" + 0.060*\"boiling water\" + 0.058*\"enchilada sauce\" + 0.045*\"whipping cream\" + 0.045*\"fresh dill\" + 0.043*\"tortillas\" + 0.038*\"white pepper\" + 0.037*\"asian fish sauce\" + 0.035*\"mussels\"'),\n",
       " (31,\n",
       "  '0.077*\"black peppercorns\" + 0.075*\"cinnamon sticks\" + 0.055*\"clove\" + 0.052*\"green beans\" + 0.050*\"water\" + 0.030*\"reduced sodium chicken broth\" + 0.025*\"bay leaves\" + 0.023*\"cardamom pods\" + 0.023*\"salmon fillets\" + 0.023*\"fresh tarragon\"'),\n",
       " (32,\n",
       "  '0.064*\"sugar\" + 0.060*\"vanilla extract\" + 0.045*\"butter\" + 0.040*\"granulated sugar\" + 0.038*\"egg yolks\" + 0.035*\"cream cheese\" + 0.031*\"heavy cream\" + 0.027*\"egg whites\" + 0.025*\"cinnamon\" + 0.025*\"water\"'),\n",
       " (33,\n",
       "  '0.058*\"tomato purée\" + 0.053*\"red wine\" + 0.051*\"fennel bulb\" + 0.043*\"spices\" + 0.041*\"bay leaf\" + 0.034*\"penne\" + 0.034*\"sausage casings\" + 0.026*\"dried currants\" + 0.025*\"broth\" + 0.024*\"fat\"'),\n",
       " (34,\n",
       "  '0.074*\"salt\" + 0.073*\"lemon juice\" + 0.072*\"mayonaise\" + 0.053*\"pepper\" + 0.050*\"worcestershire sauce\" + 0.034*\"shrimp\" + 0.032*\"garlic\" + 0.031*\"hot sauce\" + 0.030*\"ketchup\" + 0.029*\"chicken thighs\"'),\n",
       " (35,\n",
       "  '0.087*\"soy sauce\" + 0.052*\"sesame oil\" + 0.051*\"rice vinegar\" + 0.046*\"green onions\" + 0.037*\"garlic\" + 0.035*\"sesame seeds\" + 0.032*\"fresh ginger\" + 0.031*\"scallions\" + 0.030*\"honey\" + 0.026*\"vegetable oil\"'),\n",
       " (36,\n",
       "  '0.108*\"bacon\" + 0.094*\"mushrooms\" + 0.080*\"rice\" + 0.069*\"frozen peas\" + 0.051*\"sweetened condensed milk\" + 0.034*\"queso fresco\" + 0.029*\"boneless chicken breast\" + 0.029*\"Thai red curry paste\" + 0.027*\"corn oil\" + 0.024*\"allspice\"'),\n",
       " (37,\n",
       "  '0.065*\"ground cinnamon\" + 0.053*\"cayenne pepper\" + 0.052*\"ground cumin\" + 0.046*\"ground black pepper\" + 0.042*\"ground nutmeg\" + 0.040*\"ground cloves\" + 0.037*\"sweet potatoes\" + 0.037*\"ground coriander\" + 0.035*\"cider vinegar\" + 0.032*\"olive oil\"'),\n",
       " (38,\n",
       "  '0.079*\"cooking oil\" + 0.067*\"spring onions\" + 0.063*\"light soy sauce\" + 0.051*\"beef\" + 0.048*\"ground pork\" + 0.045*\"baguette\" + 0.037*\"garlic\" + 0.033*\"salt\" + 0.029*\"ground black pepper\" + 0.027*\"noodles\"'),\n",
       " (39,\n",
       "  '0.079*\"onions\" + 0.055*\"green bell pepper\" + 0.052*\"salt\" + 0.037*\"chicken broth\" + 0.037*\"celery\" + 0.037*\"garlic\" + 0.035*\"bay leaves\" + 0.033*\"dried thyme\" + 0.031*\"water\" + 0.029*\"carrots\"')]"
      ]
     },
     "execution_count": 182,
     "metadata": {},
     "output_type": "execute_result"
    }
   ],
   "source": [
    "topics = model.show_topics(num_topics=40, num_words=10, formatted=False)\n",
    "model.print_topics(num_topics=40, num_words=10)"
   ]
  },
  {
   "cell_type": "code",
   "execution_count": 183,
   "metadata": {
    "collapsed": false
   },
   "outputs": [
    {
     "data": {
      "text/plain": [
       "[16, 7, 10, 1, 0, 1]"
      ]
     },
     "execution_count": 183,
     "metadata": {},
     "output_type": "execute_result"
    }
   ],
   "source": [
    "from collections import Counter\n",
    "terms = [term[0] for topic in topics for term in topic[1]]\n",
    "groups = Counter(terms)\n",
    "\n",
    "answer1 = [groups[k] for k in [\"salt\", \"sugar\", \"water\", \"mushrooms\", \"chicken\", \"eggs\"]]\n",
    "answer1"
   ]
  },
  {
   "cell_type": "code",
   "execution_count": 184,
   "metadata": {
    "collapsed": true
   },
   "outputs": [],
   "source": [
    "def save_answers1(c_salt, c_sugar, c_water, c_mushrooms, c_chicken, c_eggs):\n",
    "    with open(\"cooking_LDA_pa_task1.txt\", \"w\") as fout:\n",
    "        fout.write(\" \".join([str(el) for el in [c_salt, c_sugar, c_water, c_mushrooms, c_chicken, c_eggs]]))"
   ]
  },
  {
   "cell_type": "code",
   "execution_count": 185,
   "metadata": {
    "collapsed": false
   },
   "outputs": [],
   "source": [
    "save_answers1(*answer1)"
   ]
  },
  {
   "cell_type": "markdown",
   "metadata": {},
   "source": [
    "### Фильтрация словаря\n",
    "В топах тем гораздо чаще встречаются первые три рассмотренных ингредиента, чем последние три. При этом наличие в рецепте курицы, яиц и грибов яснее дает понять, что мы будем готовить, чем наличие соли, сахара и воды. Таким образом, даже в рецептах есть слова, часто встречающиеся в текстах и не несущие смысловой нагрузки, и поэтому их не желательно видеть в темах. Наиболее простой прием борьбы с такими фоновыми элементами — фильтрация словаря по частоте. Обычно словарь фильтруют с двух сторон: убирают очень редкие слова (в целях экономии памяти) и очень частые слова (в целях повышения интерпретируемости тем). Мы уберем только частые слова."
   ]
  },
  {
   "cell_type": "code",
   "execution_count": 186,
   "metadata": {
    "collapsed": true
   },
   "outputs": [],
   "source": [
    "import copy\n",
    "dictionary2 = copy.deepcopy(dictionary)"
   ]
  },
  {
   "cell_type": "markdown",
   "metadata": {},
   "source": [
    "__Задание 2.__ У объекта dictionary2 есть переменная *dfs* — это словарь, ключами которого являются id токена, а элементами — число раз, сколько слово встретилось во всей коллекции. Сохраните в отдельный список ингредиенты, которые встретились в коллекции больше 4000 раз. Вызовите метод словаря *filter_tokens*, подав в качестве первого аргумента полученный список популярных ингредиентов. Вычислите две величины: dict_size_before и dict_size_after — размер словаря до и после фильтрации.\n",
    "\n",
    "Затем, используя новый словарь, создайте новый корпус документов, corpus2, по аналогии с тем, как это сделано в начале ноутбука. Вычислите две величины: corpus_size_before и corpus_size_after — суммарное количество ингредиентов в корпусе (для каждого документа вычислите число различных ингредиентов в нем и просуммируйте по всем документам) до и после фильтрации.\n",
    "\n",
    "Передайте величины dict_size_before, dict_size_after, corpus_size_before, corpus_size_after в функцию save_answers2 и загрузите сгенерированный файл в форму."
   ]
  },
  {
   "cell_type": "code",
   "execution_count": 187,
   "metadata": {
    "collapsed": false
   },
   "outputs": [
    {
     "data": {
      "text/plain": [
       "[1, 2, 9, 17, 18, 22, 29, 34, 48, 62, 105, 114]"
      ]
     },
     "execution_count": 187,
     "metadata": {},
     "output_type": "execute_result"
    }
   ],
   "source": [
    "frequent_words = [t_id for t_id, freq in dictionary2.dfs.items() if freq > 4000]\n",
    "frequent_words"
   ]
  },
  {
   "cell_type": "code",
   "execution_count": 188,
   "metadata": {
    "collapsed": true
   },
   "outputs": [],
   "source": [
    "dictionary2.filter_tokens(frequent_words)"
   ]
  },
  {
   "cell_type": "code",
   "execution_count": 278,
   "metadata": {
    "collapsed": false
   },
   "outputs": [
    {
     "name": "stdout",
     "output_type": "stream",
     "text": [
      "6702\n",
      "6714\n"
     ]
    }
   ],
   "source": [
    "print(len(dictionary2))\n",
    "print(len(dictionary))"
   ]
  },
  {
   "cell_type": "code",
   "execution_count": 190,
   "metadata": {
    "collapsed": true
   },
   "outputs": [],
   "source": [
    "corpus2 = [dictionary2.doc2bow(text) for text in texts]  # составляем корпус документов"
   ]
  },
  {
   "cell_type": "code",
   "execution_count": 277,
   "metadata": {
    "collapsed": false
   },
   "outputs": [
    {
     "name": "stdout",
     "output_type": "stream",
     "text": [
      "428249\n",
      "343665\n"
     ]
    }
   ],
   "source": [
    "def get_corpus_size(corpus):\n",
    "    size = 0\n",
    "    for item in corpus:\n",
    "        size += len(item)\n",
    "    return size\n",
    "\n",
    "print(get_corpus_size(corpus))\n",
    "print(get_corpus_size(corpus2))"
   ]
  },
  {
   "cell_type": "code",
   "execution_count": 192,
   "metadata": {
    "collapsed": true
   },
   "outputs": [],
   "source": [
    "def save_answers2(dict_size_before, dict_size_after, corpus_size_before, corpus_size_after):\n",
    "    with open(\"cooking_LDA_pa_task2.txt\", \"w\") as fout:\n",
    "        fout.write(\" \".join([str(el) for el in [dict_size_before, dict_size_after, corpus_size_before, corpus_size_after]]))"
   ]
  },
  {
   "cell_type": "code",
   "execution_count": 193,
   "metadata": {
    "collapsed": true
   },
   "outputs": [],
   "source": [
    "save_answers2(len(dictionary), len(dictionary2), get_corpus_size(corpus), get_corpus_size(corpus2))"
   ]
  },
  {
   "cell_type": "markdown",
   "metadata": {},
   "source": [
    "### Сравнение когерентностей\n",
    "__Задание 3.__ Постройте еще одну модель по корпусу corpus2 и словарю dictionary2, остальные параметры оставьте такими же, как при первом построении модели. Сохраните новую модель в другую переменную (не перезаписывайте предыдущую модель). Не забудьте про фиксирование seed!\n",
    "\n",
    "Затем воспользуйтесь методом *top_topics* модели, чтобы вычислить ее когерентность. Передайте в качестве аргумента соответствующий модели корпус. Метод вернет список кортежей (топ токенов, когерентность), отсортированных по убыванию последней. Вычислите среднюю по всем темам когерентность для каждой из двух моделей и передайте в функцию save_answers3. "
   ]
  },
  {
   "cell_type": "code",
   "execution_count": 286,
   "metadata": {
    "collapsed": true
   },
   "outputs": [],
   "source": [
    "np.random.seed(76543)\n",
    "model2 = models.ldamodel.LdaModel(corpus2, id2word=dictionary2, num_topics=40, passes=5)"
   ]
  },
  {
   "cell_type": "code",
   "execution_count": 295,
   "metadata": {
    "collapsed": false
   },
   "outputs": [],
   "source": [
    "top_topics2 = model2.top_topics(corpus2)\n",
    "top_topics = model.top_topics(corpus)"
   ]
  },
  {
   "cell_type": "code",
   "execution_count": 304,
   "metadata": {
    "collapsed": false
   },
   "outputs": [],
   "source": [
    "coherence = np.array(top_topics)[:,1].mean()"
   ]
  },
  {
   "cell_type": "code",
   "execution_count": 305,
   "metadata": {
    "collapsed": false
   },
   "outputs": [],
   "source": [
    "coherence2 = np.array(top_topics2)[:,1].mean()"
   ]
  },
  {
   "cell_type": "code",
   "execution_count": 307,
   "metadata": {
    "collapsed": true
   },
   "outputs": [],
   "source": [
    "def save_answers3(coherence, coherence2):\n",
    "    with open(\"cooking_LDA_pa_task3.txt\", \"w\") as fout:\n",
    "        fout.write(\" \".join([\"%3f\"%el for el in [coherence, coherence2]]))"
   ]
  },
  {
   "cell_type": "code",
   "execution_count": 308,
   "metadata": {
    "collapsed": false
   },
   "outputs": [
    {
     "data": {
      "text/plain": [
       "(-622.36787955009663, -674.41435702168769)"
      ]
     },
     "execution_count": 308,
     "metadata": {},
     "output_type": "execute_result"
    }
   ],
   "source": [
    "save_answers3(coherence, coherence2)\n",
    "coherence, coherence2"
   ]
  },
  {
   "cell_type": "markdown",
   "metadata": {},
   "source": [
    "Считается, что когерентность хорошо соотносится с человеческими оценками интерпретируемости тем. Поэтому на больших текстовых коллекциях когерентность обычно повышается, если убрать фоновую лексику. Однако в нашем случае этого не произошло. "
   ]
  },
  {
   "cell_type": "markdown",
   "metadata": {},
   "source": [
    "### Изучение влияния гиперпараметра alpha"
   ]
  },
  {
   "cell_type": "markdown",
   "metadata": {},
   "source": [
    "В этом разделе мы будем работать со второй моделью, то есть той, которая построена по сокращенному корпусу. \n",
    "\n",
    "Пока что мы посмотрели только на матрицу темы-слова, теперь давайте посмотрим на матрицу темы-документы. Выведите темы для нулевого (или любого другого) документа из корпуса, воспользовавшись методом *get_document_topics* второй модели:"
   ]
  },
  {
   "cell_type": "code",
   "execution_count": 215,
   "metadata": {
    "collapsed": false
   },
   "outputs": [
    {
     "data": {
      "text/plain": [
       "[(6, 0.15100787093232432),\n",
       " (9, 0.12812500000000002),\n",
       " (22, 0.12812499999999999),\n",
       " (32, 0.4802421290676756)]"
      ]
     },
     "execution_count": 215,
     "metadata": {},
     "output_type": "execute_result"
    }
   ],
   "source": [
    "model2.get_document_topics(corpus2[0])"
   ]
  },
  {
   "cell_type": "markdown",
   "metadata": {},
   "source": [
    "Также выведите содержимое переменной *.alpha* второй модели:"
   ]
  },
  {
   "cell_type": "code",
   "execution_count": 202,
   "metadata": {
    "collapsed": false
   },
   "outputs": [
    {
     "data": {
      "text/plain": [
       "array([ 0.025,  0.025,  0.025,  0.025,  0.025,  0.025,  0.025,  0.025,\n",
       "        0.025,  0.025,  0.025,  0.025,  0.025,  0.025,  0.025,  0.025,\n",
       "        0.025,  0.025,  0.025,  0.025,  0.025,  0.025,  0.025,  0.025,\n",
       "        0.025,  0.025,  0.025,  0.025,  0.025,  0.025,  0.025,  0.025,\n",
       "        0.025,  0.025,  0.025,  0.025,  0.025,  0.025,  0.025,  0.025])"
      ]
     },
     "execution_count": 202,
     "metadata": {},
     "output_type": "execute_result"
    }
   ],
   "source": [
    "model2.alpha"
   ]
  },
  {
   "cell_type": "markdown",
   "metadata": {},
   "source": [
    "У вас должно получиться, что документ характеризуется небольшим числом тем. Попробуем поменять гиперпараметр alpha, задающий априорное распределение Дирихле для распределений тем в документах."
   ]
  },
  {
   "cell_type": "markdown",
   "metadata": {},
   "source": [
    "__Задание 4.__ Обучите третью модель: используйте сокращенный корпус (corpus2 и dictionary2) и установите параметр __alpha=1__, passes=5. Не забудьте про фиксацию seed! Выведите темы новой модели для нулевого документа; должно получиться, что распределение над множеством тем практически равномерное. Чтобы убедиться в том, что во второй модели документы описываются гораздо более разреженными распределениями, чем в третьей, посчитайте суммарное количество элементов, __превосходящих 0.01__, в матрицах темы-документы обеих моделей. Другими словами, запросите темы  модели для каждого документа с параметром *minimum_probability=0.01* и просуммируйте число элементов в получаемых массивах. Передайте две суммы (сначала для модели с alpha по умолчанию, затем для модели в alpha=1) в функцию save_answers4."
   ]
  },
  {
   "cell_type": "code",
   "execution_count": 203,
   "metadata": {
    "collapsed": true
   },
   "outputs": [],
   "source": [
    "np.random.seed(76543)\n",
    "model3 = models.ldamodel.LdaModel(corpus2, id2word=dictionary2, num_topics=40, passes=5, alpha=1)"
   ]
  },
  {
   "cell_type": "code",
   "execution_count": 216,
   "metadata": {
    "collapsed": false
   },
   "outputs": [
    {
     "data": {
      "text/plain": [
       "[(0, 0.021585777295909638),\n",
       " (1, 0.022053841055209172),\n",
       " (2, 0.045475904512110636),\n",
       " (3, 0.02131259217791831),\n",
       " (4, 0.042652787051114457),\n",
       " (5, 0.021276595744680861),\n",
       " (6, 0.022206592587050079),\n",
       " (7, 0.044986229662678012),\n",
       " (8, 0.021459104524872),\n",
       " (9, 0.021296588159649393),\n",
       " (10, 0.040931623688876602),\n",
       " (11, 0.021276595744680861),\n",
       " (12, 0.021349569453393367),\n",
       " (13, 0.04027867724379644),\n",
       " (14, 0.021297345009512123),\n",
       " (15, 0.021357946126415246),\n",
       " (16, 0.021276595751146633),\n",
       " (17, 0.022011060704347298),\n",
       " (18, 0.021276595757809862),\n",
       " (19, 0.02128454307903517),\n",
       " (20, 0.023924250907795687),\n",
       " (21, 0.021276595744680861),\n",
       " (22, 0.021691185986197441),\n",
       " (23, 0.021367288157145677),\n",
       " (24, 0.021323943869017249),\n",
       " (25, 0.021276598256538451),\n",
       " (26, 0.024386937188957906),\n",
       " (27, 0.021350017983468601),\n",
       " (28, 0.021280405157588635),\n",
       " (29, 0.021306755356748492),\n",
       " (30, 0.021395834643414158),\n",
       " (31, 0.021279005163170328),\n",
       " (32, 0.021332581146872909),\n",
       " (33, 0.021276595744680861),\n",
       " (34, 0.021281756094305451),\n",
       " (35, 0.021357339743490873),\n",
       " (36, 0.021434266686076092),\n",
       " (37, 0.047553224074819052),\n",
       " (38, 0.025125729737966777),\n",
       " (39, 0.022133123026858801)]"
      ]
     },
     "execution_count": 216,
     "metadata": {},
     "output_type": "execute_result"
    }
   ],
   "source": [
    "model3.get_document_topics(corpus2[0])"
   ]
  },
  {
   "cell_type": "code",
   "execution_count": 222,
   "metadata": {
    "collapsed": false
   },
   "outputs": [
    {
     "name": "stdout",
     "output_type": "stream",
     "text": [
      "196816 1590960\n"
     ]
    }
   ],
   "source": [
    "def count_topics(model, corpuses):\n",
    "    accum = 0\n",
    "    for doc in corpuses:\n",
    "        topics = model.get_document_topics(doc, minimum_probability=0.01)\n",
    "        accum += len(topics)\n",
    "    return accum\n",
    "\n",
    "count_model2 = count_topics(model2, corpus2)\n",
    "count_model3 = count_topics(model3, corpus2)\n",
    "print(count_model2, count_model3)"
   ]
  },
  {
   "cell_type": "code",
   "execution_count": 223,
   "metadata": {
    "collapsed": true
   },
   "outputs": [],
   "source": [
    "def save_answers4(count_model2, count_model3):\n",
    "    with open(\"cooking_LDA_pa_task4.txt\", \"w\") as fout:\n",
    "        fout.write(\" \".join([str(el) for el in [count_model2, count_model3]]))"
   ]
  },
  {
   "cell_type": "code",
   "execution_count": 224,
   "metadata": {
    "collapsed": true
   },
   "outputs": [],
   "source": [
    "save_answers4(count_model2, count_model3)"
   ]
  },
  {
   "cell_type": "markdown",
   "metadata": {},
   "source": [
    "Таким образом, гиперпараметр __alpha__ влияет на разреженность распределений тем в документах. Аналогично гиперпараметр __eta__ влияет на разреженность распределений слов в темах."
   ]
  },
  {
   "cell_type": "markdown",
   "metadata": {},
   "source": [
    "### LDA как способ понижения размерности\n",
    "Иногда, распределения над темами, найденные с помощью LDA, добавляют в матрицу объекты-признаки как дополнительные, семантические, признаки, и это может улучшить качество решения задачи. Для простоты давайте просто обучим классификатор рецептов на кухни на признаках, полученных из LDA, и измерим точность (accuracy).\n",
    "\n",
    "__Задание 5.__ Используйте модель, построенную по сокращенной выборке с alpha по умолчанию (вторую модель). Составьте матрицу $\\Theta = p(t|d)$ вероятностей тем в документах; вы можете использовать тот же метод get_document_topics, а также вектор правильных ответов y (в том же порядке, в котором рецепты идут в переменной recipes). Создайте объект RandomForestClassifier со 100 деревьями, с помощью функции cross_val_score вычислите среднюю accuracy по трем фолдам (перемешивать данные не нужно) и передайте в функцию save_answers5."
   ]
  },
  {
   "cell_type": "code",
   "execution_count": 255,
   "metadata": {
    "collapsed": false
   },
   "outputs": [],
   "source": [
    "from sklearn.ensemble import RandomForestClassifier\n",
    "from sklearn.model_selection import cross_val_score\n",
    "import pandas as pd"
   ]
  },
  {
   "cell_type": "code",
   "execution_count": 262,
   "metadata": {
    "collapsed": false
   },
   "outputs": [],
   "source": [
    "def build_matrix(model, corpus):\n",
    "    matrix = {}\n",
    "    for i, doc in enumerate(corpus):\n",
    "        matrix[i] = {}\n",
    "        topics = model.get_document_topics(doc)\n",
    "        for topic in topics:\n",
    "            matrix[i][topic[0]] = topic[1]\n",
    "   \n",
    "    return matrix\n",
    "\n",
    "matrix = build_matrix(model2, corpus2)"
   ]
  },
  {
   "cell_type": "code",
   "execution_count": 263,
   "metadata": {
    "collapsed": false
   },
   "outputs": [
    {
     "data": {
      "text/plain": [
       "((39774, 40), (39774,))"
      ]
     },
     "execution_count": 263,
     "metadata": {},
     "output_type": "execute_result"
    }
   ],
   "source": [
    "X = pd.DataFrame.from_dict(matrix).fillna(0).T\n",
    "y = np.array([recipe['cuisine'] for recipe in recipes])\n",
    "X.shape, y.shape"
   ]
  },
  {
   "cell_type": "code",
   "execution_count": 264,
   "metadata": {
    "collapsed": false
   },
   "outputs": [
    {
     "data": {
      "text/plain": [
       "array([ 0.55771696,  0.55645222,  0.56082101])"
      ]
     },
     "execution_count": 264,
     "metadata": {},
     "output_type": "execute_result"
    }
   ],
   "source": [
    "clf = RandomForestClassifier(n_estimators=100)\n",
    "scores = cross_val_score(clf, X, y, cv=3, scoring='accuracy')\n",
    "scores"
   ]
  },
  {
   "cell_type": "code",
   "execution_count": 265,
   "metadata": {
    "collapsed": true
   },
   "outputs": [],
   "source": [
    "def save_answers5(accuracy):\n",
    "     with open(\"cooking_LDA_pa_task5.txt\", \"w\") as fout:\n",
    "        fout.write(str(accuracy))"
   ]
  },
  {
   "cell_type": "code",
   "execution_count": 266,
   "metadata": {
    "collapsed": true
   },
   "outputs": [],
   "source": [
    "save_answers5(np.mean(scores))"
   ]
  },
  {
   "cell_type": "markdown",
   "metadata": {},
   "source": [
    "Для такого большого количества классов это неплохая точность. Вы можете попроовать обучать RandomForest на исходной матрице частот слов, имеющей значительно большую размерность, и увидеть, что accuracy увеличивается на 10–15%. Таким образом, LDA собрал не всю, но достаточно большую часть информации из выборки, в матрице низкого ранга."
   ]
  },
  {
   "cell_type": "markdown",
   "metadata": {},
   "source": [
    "### LDA — вероятностная модель\n",
    "Матричное разложение, использующееся в LDA, интерпретируется как следующий процесс генерации документов.\n",
    "\n",
    "Для документа $d$ длины $n_d$:\n",
    "1. Из априорного распределения Дирихле с параметром alpha сгенерировать распределение над множеством тем: $\\theta_d \\sim Dirichlet(\\alpha)$\n",
    "1. Для каждого слова $w = 1, \\dots, n_d$:\n",
    "    1. Сгенерировать тему из дискретного распределения $t \\sim \\theta_{d}$\n",
    "    1. Сгенерировать слово из дискретного распределения $w \\sim \\phi_{t}$.\n",
    "    \n",
    "Подробнее об этом в [Википедии](https://en.wikipedia.org/wiki/Latent_Dirichlet_allocation).\n",
    "\n",
    "В контексте нашей задачи получается, что, используя данный генеративный процесс, можно создавать новые рецепты. Вы можете передать в функцию модель и число ингредиентов и сгенерировать рецепт :)"
   ]
  },
  {
   "cell_type": "code",
   "execution_count": 268,
   "metadata": {
    "collapsed": false
   },
   "outputs": [],
   "source": [
    "def generate_recipe(model, num_ingredients):\n",
    "    theta = np.random.dirichlet(model.alpha)\n",
    "    for i in range(num_ingredients):\n",
    "        t = np.random.choice(np.arange(model.num_topics), p=theta)\n",
    "        topic = model.show_topic(t, topn=model.num_terms)\n",
    "        topic_distr = [x[1] for x in topic]\n",
    "        terms = [x[0] for x in topic]\n",
    "        w = np.random.choice(terms, p=topic_distr)\n",
    "        print(w)"
   ]
  },
  {
   "cell_type": "code",
   "execution_count": 272,
   "metadata": {
    "collapsed": false
   },
   "outputs": [
    {
     "name": "stdout",
     "output_type": "stream",
     "text": [
      "mushrooms\n",
      "farro\n",
      "active dry yeast\n",
      "lump crab meat\n",
      "baking powder\n"
     ]
    }
   ],
   "source": [
    "generate_recipe(model2, 5)"
   ]
  },
  {
   "cell_type": "markdown",
   "metadata": {},
   "source": [
    "### Интерпретация построенной модели\n",
    "Вы можете рассмотреть топы ингредиентов каждой темы. Большиснтво тем сами по себе похожи на рецепты; в некоторых собираются продукты одного вида, например, свежие фрукты или разные виды сыра.\n",
    "\n",
    "Попробуем эмпирически соотнести наши темы с национальными кухнями (cuisine). Построим матрицу $A$ размера темы $x$ кухни, ее элементы $a_{tc}$ — суммы $p(t|d)$ по всем документам $d$, которые отнесены к кухне $c$. Нормируем матрицу на частоты рецептов по разным кухням, чтобы избежать дисбаланса между кухнями. Следующая функция получает на вход объект модели, объект корпуса и исходные данные и возвращает нормированную матрицу $A$. Ее удобно визуализировать с помощью seaborn."
   ]
  },
  {
   "cell_type": "code",
   "execution_count": 273,
   "metadata": {
    "collapsed": true
   },
   "outputs": [],
   "source": [
    "import pandas\n",
    "import seaborn\n",
    "from matplotlib import pyplot as plt\n",
    "%matplotlib inline"
   ]
  },
  {
   "cell_type": "code",
   "execution_count": 274,
   "metadata": {
    "collapsed": true
   },
   "outputs": [],
   "source": [
    "def compute_topic_cuisine_matrix(model, corpus, recipes):\n",
    "    # составляем вектор целевых признаков\n",
    "    targets = list(set([recipe[\"cuisine\"] for recipe in recipes]))\n",
    "    # составляем матрицу\n",
    "    tc_matrix = pandas.DataFrame(data=np.zeros((model.num_topics, len(targets))), columns=targets)\n",
    "    for recipe, bow in zip(recipes, corpus):\n",
    "        recipe_topic = model.get_document_topics(bow)\n",
    "        for t, prob in recipe_topic:\n",
    "            tc_matrix[recipe[\"cuisine\"]][t] += prob\n",
    "    # нормируем матрицу\n",
    "    target_sums = pandas.DataFrame(data=np.zeros((1, len(targets))), columns=targets)\n",
    "    for recipe in recipes:\n",
    "        target_sums[recipe[\"cuisine\"]] += 1\n",
    "    return pandas.DataFrame(tc_matrix.values/target_sums.values, columns=tc_matrix.columns)"
   ]
  },
  {
   "cell_type": "code",
   "execution_count": 275,
   "metadata": {
    "collapsed": true
   },
   "outputs": [],
   "source": [
    "def plot_matrix(tc_matrix):\n",
    "    plt.figure(figsize=(10, 10))\n",
    "    seaborn.heatmap(tc_matrix, square=True)"
   ]
  },
  {
   "cell_type": "code",
   "execution_count": 276,
   "metadata": {
    "collapsed": false
   },
   "outputs": [
    {
     "data": {
      "image/png": "[encoded data removed]",
      "text/plain": [
       "<matplotlib.figure.Figure at 0x116c1f048>"
      ]
     },
     "metadata": {},
     "output_type": "display_data"
    }
   ],
   "source": [
    "# Визуализируйте матрицу\n",
    "plot_matrix(compute_topic_cuisine_matrix(model, corpus, recipes))"
   ]
  },
  {
   "cell_type": "markdown",
   "metadata": {},
   "source": [
    "Чем темнее квадрат в матрице, тем больше связь этой темы с данной кухней. Мы видим, что у нас есть темы, которые связаны с несколькими кухнями. Такие темы показывают набор ингредиентов, которые популярны в кухнях нескольких народов, то есть указывают на схожесть кухонь этих народов. Некоторые темы распределены по всем кухням равномерно, они показывают наборы продуктов, которые часто используются в кулинарии всех стран. "
   ]
  },
  {
   "cell_type": "markdown",
   "metadata": {},
   "source": [
    "Жаль, что в датасете нет названий рецептов, иначе темы было бы проще интерпретировать..."
   ]
  },
  {
   "cell_type": "markdown",
   "metadata": {},
   "source": [
    "### Заключение\n",
    "В этом задании вы построили несколько моделей LDA, посмотрели, на что влияют гиперпараметры модели и как можно использовать построенную модель. "
   ]
  }
 ],
 "metadata": {
  "kernelspec": {
   "display_name": "Python 3",
   "language": "python",
   "name": "python3"
  },
  "language_info": {
   "codemirror_mode": {
    "name": "ipython",
    "version": 3
   },
   "file_extension": ".py",
   "mimetype": "text/x-python",
   "name": "python",
   "nbconvert_exporter": "python",
   "pygments_lexer": "ipython3",
   "version": "3.5.2"
  }
 },
 "nbformat": 4,
 "nbformat_minor": 0
}
