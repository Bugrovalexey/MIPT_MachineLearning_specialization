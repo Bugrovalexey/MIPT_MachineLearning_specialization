{
 "cells": [
  {
   "cell_type": "markdown",
   "metadata": {},
   "source": [
    "# Задание 1\n",
    "\n",
    "Давайте уточним правило трёх сигм. \n",
    "\n",
    "Утверждение: 99.7% вероятностной массы случайной величины $X \\sim N(\\mu,\\sigma^2)$ лежит в интервале $\\mu \\pm c \\cdot \\sigma$. \n",
    "\n",
    "Чему равно точное значение константы $c$? Округлите ответ до четырёх знаков после десятичной точки."
   ]
  },
  {
   "cell_type": "code",
   "execution_count": 12,
   "metadata": {
    "collapsed": false
   },
   "outputs": [
    {
     "name": "stdout",
     "output_type": "stream",
     "text": [
      "2.9677\n"
     ]
    }
   ],
   "source": [
    "import numpy as np\n",
    "from scipy.stats import norm\n",
    "a = 1-0.997\n",
    "print(np.round(norm.ppf(1-a/2),4))"
   ]
  },
  {
   "cell_type": "markdown",
   "metadata": {},
   "source": [
    "# Задание 2\n",
    "\n",
    "Пусть $X \\sim N(\\mu,\\sigma^2)$. Какое распределение имеет величина $\\frac{\\bar{X}_n−\\mu}{S_n/\\sqrt{n}}$?\n",
    "\n",
    "> $St(n−1)$"
   ]
  },
  {
   "cell_type": "markdown",
   "metadata": {},
   "source": [
    "# Задание 3\n",
    "Выберите все распределения с несимметричной функцией плотности\n",
    "\n",
    "[x] Фишера\n",
    "\n",
    "[x] хи-квадрат\n",
    "\n",
    "[] Стьюдента\n",
    "\n",
    "[] Гаусса"
   ]
  },
  {
   "cell_type": "markdown",
   "metadata": {},
   "source": [
    "# Задание 4\n",
    "\n",
    "Какое из выражений задаёт доверительный интервал для разности долей в связанных выборках?\n",
    "\n",
    "> $\\frac{f-g}{n} \\pm z_{1-\\frac{a}{2}} \\sqrt{\\frac{f+g}{n^2} - \\frac{(f-g)^2}{n^3}}$"
   ]
  },
  {
   "cell_type": "markdown",
   "metadata": {},
   "source": [
    "# Задание 5\n",
    "\n",
    "В пятилетнем рандомизированном исследовании Гарвардской медицинской школы 11037 испытуемых через день принимали аспирин, а ещё 11034 — плацебо. Исследование было слепым, то есть, испытуемые не знали, что именно они принимают.\n",
    "\n",
    "За 5 лет инфаркт случился у 104 испытуемых, принимавших аспирин, и у 189 принимавших плацебо.\n",
    "\n",
    "Оцените, насколько вероятность инфаркта снижается при приёме аспирина. Округлите ответ до четырёх знаков после десятичной точки."
   ]
  },
  {
   "cell_type": "code",
   "execution_count": 90,
   "metadata": {
    "collapsed": false
   },
   "outputs": [
    {
     "name": "stdout",
     "output_type": "stream",
     "text": [
      "0.0077\n"
     ]
    }
   ],
   "source": [
    "a = 104\n",
    "n1 = 11037\n",
    "\n",
    "b = 189\n",
    "n2 = 11034\n",
    "\n",
    "p1 = a/n1\n",
    "p2 = b/n2\n",
    "\n",
    "print(np.round(p2 - p1, 4))"
   ]
  },
  {
   "cell_type": "markdown",
   "metadata": {},
   "source": [
    "# Задание 6\n",
    "\n",
    "Постройте теперь 95% доверительный интервал для снижения вероятности инфаркта при приёме аспирина. Чему равна его верхняя граница? Округлите ответ до четырёх знаков после десятичной точки.\n",
    "\n",
    "Доверительный интервал для разности долей $p1-p2$ оценивается следующей формулой:\n",
    "\n",
    "$p_1 - p_2 \\pm z_{1-\\frac{a}{2}} \\sqrt{\\frac{p_1(1-p_1)}{n_1} - \\frac{p_2(1-p_2)}{n_2}}$"
   ]
  },
  {
   "cell_type": "code",
   "execution_count": 98,
   "metadata": {
    "collapsed": false
   },
   "outputs": [
    {
     "name": "stdout",
     "output_type": "stream",
     "text": [
      "[-0.0107 -0.0047]\n"
     ]
    }
   ],
   "source": [
    "z = norm.ppf(1-0.05/2)\n",
    "delta = z * np.sqrt(p1 * (1 - p1) / n1 + p2 * (1 - p2) / n2)\n",
    "print(np.round((p1 - p2 - delta, p1 - p2 + delta), 4))"
   ]
  },
  {
   "cell_type": "markdown",
   "metadata": {},
   "source": [
    "# Задание 7\n",
    "\n",
    "Продолжим анализировать данные эксперимента Гарвардской медицинской школы.\n",
    "\n",
    "Для бернуллиевских случайных величин $X \\sim Ber(p)$ часто вычисляют величину $\\frac{p}{1−p}$, которая называется шансами (odds). Чтобы оценить шансы по выборке, вместо $p$ нужно подставить $\\hat{p}$. Например, шансы инфаркта в контрольной группе, принимавшей плацебо, можно оценить как\n",
    "\n",
    "$\\frac{\\frac{189}{11034}}{1-\\frac{189}{11034}} \\approx 0.0174$\n",
    "\n",
    "Оцените, во сколько раз понижаются шансы инфаркта при регулярном приёме аспирина. Округлите ответ до четырёх знаков после десятичной точки."
   ]
  },
  {
   "cell_type": "code",
   "execution_count": 51,
   "metadata": {
    "collapsed": false
   },
   "outputs": [
    {
     "name": "stdout",
     "output_type": "stream",
     "text": [
      "1.8321\n"
     ]
    }
   ],
   "source": [
    "odds1 = p1/(1-p1)\n",
    "odds2 = p2/(1-p2)\n",
    "\n",
    "print(np.round(odds2/odds1,4))"
   ]
  },
  {
   "cell_type": "markdown",
   "metadata": {},
   "source": [
    "# Задание 8\n",
    "\n",
    "Величина, которую вы оценили в предыдущем вопросе, называется отношением шансов. Постройте для отношения шансов 95% доверительный интервал с помощью бутстрепа. Чему равна его нижняя граница? Округлите ответ до 4 знаков после десятичной точки.\n",
    "\n",
    "Чтобы получить в точности такой же доверительный интервал, как у нас:\n",
    "\n",
    "- составьте векторы исходов в контрольной и тестовой выборках так, чтобы в начале шли все единицы, а потом все нули;\n",
    "- установите random seed=0;\n",
    "- сделайте по 1000 псевдовыборок из каждой группы пациентов с помощью функции get_bootstrap_samples.\n",
    "\n",
    "> 1.6304"
   ]
  },
  {
   "cell_type": "code",
   "execution_count": 93,
   "metadata": {
    "collapsed": true
   },
   "outputs": [],
   "source": [
    "def get_bootstrap_samples(data, n_samples):\n",
    "    np.random.seed(0)\n",
    "    indices = np.random.randint(0, len(data), (n_samples, len(data)))\n",
    "    samples = data[indices]\n",
    "    return samples\n",
    "\n",
    "def stat_intervals(stat, alpha=0.05):\n",
    "    boundaries = np.percentile(stat, [100 * alpha / 2., 100 * (1 - alpha / 2.)])\n",
    "    return boundaries\n",
    "\n",
    "def odds(x):\n",
    "    p = np.sum(x) / len(x)\n",
    "    return p / (1 - p)"
   ]
  },
  {
   "cell_type": "code",
   "execution_count": 91,
   "metadata": {
    "collapsed": true
   },
   "outputs": [],
   "source": [
    "aspirin = np.array(a*[1] + (n1 - a)*[0])\n",
    "placebo = np.array(b*[1] + (n2 - b)*[0])"
   ]
  },
  {
   "cell_type": "code",
   "execution_count": 96,
   "metadata": {
    "collapsed": false
   },
   "outputs": [
    {
     "name": "stdout",
     "output_type": "stream",
     "text": [
      "[ 1.6304  2.104 ]\n"
     ]
    }
   ],
   "source": [
    "aspirin_scores = map(odds, get_bootstrap_samples(aspirin, 1000))\n",
    "placebo_scores = map(odds, get_bootstrap_samples(placebo, 1000))\n",
    "\n",
    "print(np.round(stat_intervals(list(map(lambda x: x[0]/x[1], zip(placebo_scores, aspirin_scores)))), 4))"
   ]
  }
 ],
 "metadata": {
  "kernelspec": {
   "display_name": "Python 3",
   "language": "python",
   "name": "python3"
  },
  "language_info": {
   "codemirror_mode": {
    "name": "ipython",
    "version": 3
   },
   "file_extension": ".py",
   "mimetype": "text/x-python",
   "name": "python",
   "nbconvert_exporter": "python",
   "pygments_lexer": "ipython3",
   "version": "3.5.2"
  }
 },
 "nbformat": 4,
 "nbformat_minor": 0
}
